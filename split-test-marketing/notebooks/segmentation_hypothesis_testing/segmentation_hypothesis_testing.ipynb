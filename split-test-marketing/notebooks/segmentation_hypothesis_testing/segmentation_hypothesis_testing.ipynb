{
 "cells": [
  {
   "cell_type": "markdown",
   "id": "b0ea7ffb",
   "metadata": {},
   "source": [
    "# User Segmentation and AB split testing"
   ]
  },
  {
   "cell_type": "markdown",
   "id": "a8e78414",
   "metadata": {},
   "source": []
  }
 ],
 "metadata": {
  "language_info": {
   "name": "python"
  }
 },
 "nbformat": 4,
 "nbformat_minor": 5
}
